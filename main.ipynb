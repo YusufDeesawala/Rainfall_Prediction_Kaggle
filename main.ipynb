{
 "cells": [
  {
   "cell_type": "code",
   "execution_count": 147,
   "metadata": {},
   "outputs": [],
   "source": [
    "import pandas as pd \n",
    "import numpy as np\n",
    "import matplotlib.pyplot as plt\n",
    "import seaborn as sns"
   ]
  },
  {
   "cell_type": "markdown",
   "metadata": {},
   "source": [
    "**Reading the Datasets**"
   ]
  },
  {
   "cell_type": "code",
   "execution_count": 148,
   "metadata": {},
   "outputs": [],
   "source": [
    "train = pd.read_csv('train.csv')\n",
    "test = pd.read_csv('test.csv')\n",
    "train = train.drop(columns = ['rainfall'], axis = 1)\n",
    "train_len = len(train)\n",
    "test_len = len(test)\n",
    "merged_df = pd.concat([train,test], axis = 0, ignore_index = True)"
   ]
  },
  {
   "cell_type": "markdown",
   "metadata": {},
   "source": [
    "**PreProcessing**"
   ]
  },
  {
   "cell_type": "code",
   "execution_count": 149,
   "metadata": {},
   "outputs": [
    {
     "data": {
      "text/html": [
       "<div>\n",
       "<style scoped>\n",
       "    .dataframe tbody tr th:only-of-type {\n",
       "        vertical-align: middle;\n",
       "    }\n",
       "\n",
       "    .dataframe tbody tr th {\n",
       "        vertical-align: top;\n",
       "    }\n",
       "\n",
       "    .dataframe thead th {\n",
       "        text-align: right;\n",
       "    }\n",
       "</style>\n",
       "<table border=\"1\" class=\"dataframe\">\n",
       "  <thead>\n",
       "    <tr style=\"text-align: right;\">\n",
       "      <th></th>\n",
       "      <th>id</th>\n",
       "      <th>day</th>\n",
       "      <th>pressure</th>\n",
       "      <th>maxtemp</th>\n",
       "      <th>temparature</th>\n",
       "      <th>mintemp</th>\n",
       "      <th>dewpoint</th>\n",
       "      <th>humidity</th>\n",
       "      <th>cloud</th>\n",
       "      <th>sunshine</th>\n",
       "      <th>winddirection</th>\n",
       "      <th>windspeed</th>\n",
       "    </tr>\n",
       "  </thead>\n",
       "  <tbody>\n",
       "    <tr>\n",
       "      <th>0</th>\n",
       "      <td>0</td>\n",
       "      <td>1</td>\n",
       "      <td>1017.4</td>\n",
       "      <td>21.2</td>\n",
       "      <td>20.6</td>\n",
       "      <td>19.9</td>\n",
       "      <td>19.4</td>\n",
       "      <td>87.0</td>\n",
       "      <td>88.0</td>\n",
       "      <td>1.1</td>\n",
       "      <td>60.0</td>\n",
       "      <td>17.2</td>\n",
       "    </tr>\n",
       "    <tr>\n",
       "      <th>1</th>\n",
       "      <td>1</td>\n",
       "      <td>2</td>\n",
       "      <td>1019.5</td>\n",
       "      <td>16.2</td>\n",
       "      <td>16.9</td>\n",
       "      <td>15.8</td>\n",
       "      <td>15.4</td>\n",
       "      <td>95.0</td>\n",
       "      <td>91.0</td>\n",
       "      <td>0.0</td>\n",
       "      <td>50.0</td>\n",
       "      <td>21.9</td>\n",
       "    </tr>\n",
       "    <tr>\n",
       "      <th>2</th>\n",
       "      <td>2</td>\n",
       "      <td>3</td>\n",
       "      <td>1024.1</td>\n",
       "      <td>19.4</td>\n",
       "      <td>16.1</td>\n",
       "      <td>14.6</td>\n",
       "      <td>9.3</td>\n",
       "      <td>75.0</td>\n",
       "      <td>47.0</td>\n",
       "      <td>8.3</td>\n",
       "      <td>70.0</td>\n",
       "      <td>18.1</td>\n",
       "    </tr>\n",
       "    <tr>\n",
       "      <th>3</th>\n",
       "      <td>3</td>\n",
       "      <td>4</td>\n",
       "      <td>1013.4</td>\n",
       "      <td>18.1</td>\n",
       "      <td>17.8</td>\n",
       "      <td>16.9</td>\n",
       "      <td>16.8</td>\n",
       "      <td>95.0</td>\n",
       "      <td>95.0</td>\n",
       "      <td>0.0</td>\n",
       "      <td>60.0</td>\n",
       "      <td>35.6</td>\n",
       "    </tr>\n",
       "    <tr>\n",
       "      <th>4</th>\n",
       "      <td>4</td>\n",
       "      <td>5</td>\n",
       "      <td>1021.8</td>\n",
       "      <td>21.3</td>\n",
       "      <td>18.4</td>\n",
       "      <td>15.2</td>\n",
       "      <td>9.6</td>\n",
       "      <td>52.0</td>\n",
       "      <td>45.0</td>\n",
       "      <td>3.6</td>\n",
       "      <td>40.0</td>\n",
       "      <td>24.8</td>\n",
       "    </tr>\n",
       "  </tbody>\n",
       "</table>\n",
       "</div>"
      ],
      "text/plain": [
       "   id  day  pressure  maxtemp  temparature  mintemp  dewpoint  humidity  \\\n",
       "0   0    1    1017.4     21.2         20.6     19.9      19.4      87.0   \n",
       "1   1    2    1019.5     16.2         16.9     15.8      15.4      95.0   \n",
       "2   2    3    1024.1     19.4         16.1     14.6       9.3      75.0   \n",
       "3   3    4    1013.4     18.1         17.8     16.9      16.8      95.0   \n",
       "4   4    5    1021.8     21.3         18.4     15.2       9.6      52.0   \n",
       "\n",
       "   cloud  sunshine  winddirection  windspeed  \n",
       "0   88.0       1.1           60.0       17.2  \n",
       "1   91.0       0.0           50.0       21.9  \n",
       "2   47.0       8.3           70.0       18.1  \n",
       "3   95.0       0.0           60.0       35.6  \n",
       "4   45.0       3.6           40.0       24.8  "
      ]
     },
     "execution_count": 149,
     "metadata": {},
     "output_type": "execute_result"
    }
   ],
   "source": [
    "merged_df.head()"
   ]
  },
  {
   "cell_type": "code",
   "execution_count": 150,
   "metadata": {},
   "outputs": [
    {
     "data": {
      "text/plain": [
       "id               0\n",
       "day              0\n",
       "pressure         0\n",
       "maxtemp          0\n",
       "temparature      0\n",
       "mintemp          0\n",
       "dewpoint         0\n",
       "humidity         0\n",
       "cloud            0\n",
       "sunshine         0\n",
       "winddirection    1\n",
       "windspeed        0\n",
       "dtype: int64"
      ]
     },
     "execution_count": 150,
     "metadata": {},
     "output_type": "execute_result"
    }
   ],
   "source": [
    "merged_df.isnull().sum()"
   ]
  },
  {
   "cell_type": "code",
   "execution_count": 151,
   "metadata": {},
   "outputs": [],
   "source": [
    "merged_df.fillna(test.mean(), inplace=True)"
   ]
  },
  {
   "cell_type": "markdown",
   "metadata": {},
   "source": [
    "**EDA**"
   ]
  },
  {
   "cell_type": "code",
   "execution_count": 152,
   "metadata": {},
   "outputs": [
    {
     "data": {
      "text/plain": [
       "<Axes: >"
      ]
     },
     "execution_count": 152,
     "metadata": {},
     "output_type": "execute_result"
    },
    {
     "data": {
      "image/png": "[encoded data removed]",
      "text/plain": [
       "<Figure size 640x480 with 2 Axes>"
      ]
     },
     "metadata": {},
     "output_type": "display_data"
    }
   ],
   "source": [
    "corr = merged_df.corr()\n",
    "sns.heatmap(corr)"
   ]
  },
  {
   "cell_type": "markdown",
   "metadata": {},
   "source": [
    "**Feature Engineering**"
   ]
  },
  {
   "cell_type": "code",
   "execution_count": 153,
   "metadata": {},
   "outputs": [],
   "source": [
    "#humidity and dewpoint interaction \n",
    "merged_df['humidity_dewpoint_diff'] = merged_df['humidity'] - merged_df['dewpoint']\n",
    "merged_df['humidity_dewpoint_ratio'] = merged_df['humidity'] / (merged_df['dewpoint'] + 1e-5)"
   ]
  },
  {
   "cell_type": "code",
   "execution_count": 154,
   "metadata": {},
   "outputs": [],
   "source": [
    "#pressure and windspeed interamerged_df\n",
    "merged_df['storm_potential'] = merged_df['pressure'] * merged_df['windspeed']"
   ]
  },
  {
   "cell_type": "code",
   "execution_count": 155,
   "metadata": {},
   "outputs": [],
   "source": [
    "#temprange\n",
    "merged_df['temp_range'] = merged_df['maxtemp'] - merged_df['mintemp']"
   ]
  },
  {
   "cell_type": "code",
   "execution_count": 156,
   "metadata": {},
   "outputs": [],
   "source": [
    "#wind interaction\n",
    "merged_df['wind_interaction'] = merged_df['windspeed'] * merged_df['winddirection']"
   ]
  },
  {
   "cell_type": "code",
   "execution_count": 157,
   "metadata": {},
   "outputs": [],
   "source": [
    "#rolling mean and median \n",
    "merged_df['rolling_mean_temperature'] = merged_df['temparature'].rolling(window=7).mean()"
   ]
  },
  {
   "cell_type": "code",
   "execution_count": 158,
   "metadata": {},
   "outputs": [
    {
     "data": {
      "text/plain": [
       "id                           0.000000\n",
       "day                          0.022982\n",
       "pressure                     0.299044\n",
       "maxtemp                     -0.503202\n",
       "temparature                 -0.570190\n",
       "mintemp                     -0.653710\n",
       "dewpoint                    -1.018383\n",
       "humidity                    -0.564495\n",
       "cloud                       -1.334801\n",
       "sunshine                     0.649794\n",
       "winddirection                0.714163\n",
       "windspeed                    0.766272\n",
       "humidity_dewpoint_diff       0.291405\n",
       "humidity_dewpoint_ratio     54.037024\n",
       "storm_potential              0.769274\n",
       "temp_range                   0.302918\n",
       "wind_interaction             1.694657\n",
       "rolling_mean_temperature    -0.460824\n",
       "dtype: float64"
      ]
     },
     "execution_count": 158,
     "metadata": {},
     "output_type": "execute_result"
    }
   ],
   "source": [
    "merged_df.skew()"
   ]
  },
  {
   "cell_type": "code",
   "execution_count": 159,
   "metadata": {},
   "outputs": [
    {
     "name": "stdout",
     "output_type": "stream",
     "text": [
      "Original skewness: id                           0.000000\n",
      "day                          0.022982\n",
      "pressure                     0.299044\n",
      "maxtemp                     -0.503202\n",
      "temparature                 -0.570190\n",
      "mintemp                     -0.653710\n",
      "dewpoint                    -1.018383\n",
      "humidity                    -0.564495\n",
      "cloud                       -1.334801\n",
      "sunshine                     0.649794\n",
      "winddirection                0.714163\n",
      "windspeed                    0.766272\n",
      "humidity_dewpoint_diff       0.291405\n",
      "humidity_dewpoint_ratio     54.037024\n",
      "storm_potential              0.769274\n",
      "temp_range                   0.302918\n",
      "wind_interaction             1.694657\n",
      "rolling_mean_temperature    -0.460824\n",
      "dtype: float64\n",
      "Number of NaN values per column after transformation: id                          0\n",
      "day                         0\n",
      "pressure                    0\n",
      "maxtemp                     0\n",
      "temparature                 0\n",
      "mintemp                     0\n",
      "dewpoint                    0\n",
      "humidity                    0\n",
      "cloud                       0\n",
      "sunshine                    0\n",
      "winddirection               0\n",
      "windspeed                   0\n",
      "humidity_dewpoint_diff      0\n",
      "humidity_dewpoint_ratio     0\n",
      "storm_potential             0\n",
      "temp_range                  0\n",
      "wind_interaction            0\n",
      "rolling_mean_temperature    6\n",
      "dtype: int64\n",
      "Number of Inf values per column after transformation: id                          0\n",
      "day                         0\n",
      "pressure                    0\n",
      "maxtemp                     0\n",
      "temparature                 0\n",
      "mintemp                     0\n",
      "dewpoint                    0\n",
      "humidity                    0\n",
      "cloud                       0\n",
      "sunshine                    0\n",
      "winddirection               0\n",
      "windspeed                   0\n",
      "humidity_dewpoint_diff      0\n",
      "humidity_dewpoint_ratio     0\n",
      "storm_potential             0\n",
      "temp_range                  0\n",
      "wind_interaction            0\n",
      "rolling_mean_temperature    0\n",
      "dtype: int64\n",
      "Skewness after transformation: id                           0.000000\n",
      "day                          0.022982\n",
      "pressure                     0.299044\n",
      "maxtemp                     -0.503202\n",
      "temparature                 -0.570190\n",
      "mintemp                     -0.653710\n",
      "dewpoint                    -1.018383\n",
      "humidity                    -0.564495\n",
      "cloud                       -1.334801\n",
      "sunshine                     0.649794\n",
      "winddirection                0.714163\n",
      "windspeed                    0.766272\n",
      "humidity_dewpoint_diff       0.291405\n",
      "humidity_dewpoint_ratio     54.037024\n",
      "storm_potential              0.769274\n",
      "temp_range                   0.302918\n",
      "wind_interaction            -0.304912\n",
      "rolling_mean_temperature    -0.461298\n",
      "dtype: float64\n"
     ]
    }
   ],
   "source": [
    "import pandas as pd\n",
    "import numpy as np\n",
    "from scipy.stats import skew\n",
    "\n",
    "# Assuming 'merged_df' is your DataFrame\n",
    "\n",
    "# Select only numeric columns to calculate skewness and apply log transformation\n",
    "numeric_columns = merged_df.select_dtypes(include=[np.number]).columns\n",
    "\n",
    "# Print the skewness before transformation\n",
    "print(\"Original skewness:\", merged_df[numeric_columns].skew())\n",
    "\n",
    "# Perform log(1 + x) transformation on columns with skewness > 1\n",
    "for column in numeric_columns:\n",
    "    if skew(merged_df[column]) > 1:\n",
    "        # Apply log(1 + x) to avoid issues with zero or negative values\n",
    "        # Ensure that we have no zeros or negative values\n",
    "        if (merged_df[column] > -1).all():  # Only apply log(1 + x) if all values are greater than -1\n",
    "            merged_df[column] = np.log1p(merged_df[column])  # log(1 + x)\n",
    "\n",
    "# Check for NaN or infinite values in the dataset after the transformation\n",
    "print(\"Number of NaN values per column after transformation:\", merged_df.isna().sum())\n",
    "print(\"Number of Inf values per column after transformation:\", np.isinf(merged_df).sum())\n",
    "\n",
    "# Replace Inf values with NaN\n",
    "merged_df.replace([np.inf, -np.inf], np.nan, inplace=True)\n",
    "\n",
    "# Optionally, replace NaN values with the mean of each column\n",
    "merged_df.fillna(merged_df.mean(), inplace=True)\n",
    "\n",
    "# Check skewness after applying transformation\n",
    "print(\"Skewness after transformation:\", merged_df[numeric_columns].skew())\n"
   ]
  },
  {
   "cell_type": "code",
   "execution_count": 160,
   "metadata": {},
   "outputs": [
    {
     "name": "stderr",
     "output_type": "stream",
     "text": [
      "/home/yusuf/Workspace/ML Projects/Rainfall_Prediction_Kaggle/.venv/lib/python3.12/site-packages/pandas/core/arraylike.py:399: RuntimeWarning: invalid value encountered in log1p\n",
      "  result = getattr(ufunc, method)(*inputs, **kwargs)\n"
     ]
    }
   ],
   "source": [
    "columns_to_transform = ['humidity_dewpoint_ratio']  \n",
    "\n",
    "for column in columns_to_transform:\n",
    "    merged_df[column] = np.log1p(merged_df[column])"
   ]
  },
  {
   "cell_type": "code",
   "execution_count": 161,
   "metadata": {},
   "outputs": [
    {
     "data": {
      "text/plain": [
       "id                           0.000000\n",
       "day                          0.022982\n",
       "pressure                     0.299044\n",
       "maxtemp                     -0.503202\n",
       "temparature                 -0.570190\n",
       "mintemp                     -0.653710\n",
       "dewpoint                    -1.018383\n",
       "humidity                    -0.564495\n",
       "cloud                       -1.334801\n",
       "sunshine                     0.649794\n",
       "winddirection                0.714163\n",
       "windspeed                    0.766272\n",
       "humidity_dewpoint_diff       0.291405\n",
       "humidity_dewpoint_ratio     16.154850\n",
       "storm_potential              0.769274\n",
       "temp_range                   0.302918\n",
       "wind_interaction            -0.304912\n",
       "rolling_mean_temperature    -0.461298\n",
       "dtype: float64"
      ]
     },
     "execution_count": 161,
     "metadata": {},
     "output_type": "execute_result"
    }
   ],
   "source": [
    "merged_df.skew()"
   ]
  },
  {
   "cell_type": "markdown",
   "metadata": {},
   "source": [
    "**Model Training**"
   ]
  },
  {
   "cell_type": "code",
   "execution_count": 162,
   "metadata": {},
   "outputs": [
    {
     "name": "stderr",
     "output_type": "stream",
     "text": [
      "/tmp/ipykernel_4234/1477254156.py:4: SettingWithCopyWarning: \n",
      "A value is trying to be set on a copy of a slice from a DataFrame.\n",
      "Try using .loc[row_indexer,col_indexer] = value instead\n",
      "\n",
      "See the caveats in the documentation: https://pandas.pydata.org/pandas-docs/stable/user_guide/indexing.html#returning-a-view-versus-a-copy\n",
      "  train['rainfall'] = train_df['rainfall']\n"
     ]
    }
   ],
   "source": [
    "train = merged_df[:train_len]\n",
    "test = merged_df[train_len:]\n",
    "train_df = pd.read_csv('train.csv')\n",
    "train['rainfall'] = train_df['rainfall']"
   ]
  },
  {
   "cell_type": "code",
   "execution_count": 171,
   "metadata": {},
   "outputs": [
    {
     "data": {
      "text/plain": [
       "id                          0\n",
       "day                         0\n",
       "pressure                    0\n",
       "maxtemp                     0\n",
       "temparature                 0\n",
       "mintemp                     0\n",
       "dewpoint                    0\n",
       "humidity                    0\n",
       "cloud                       0\n",
       "sunshine                    0\n",
       "winddirection               0\n",
       "windspeed                   0\n",
       "humidity_dewpoint_diff      0\n",
       "humidity_dewpoint_ratio     0\n",
       "storm_potential             0\n",
       "temp_range                  0\n",
       "wind_interaction            0\n",
       "rolling_mean_temperature    0\n",
       "rainfall                    0\n",
       "dtype: int64"
      ]
     },
     "execution_count": 171,
     "metadata": {},
     "output_type": "execute_result"
    }
   ],
   "source": [
    "train.isnull().sum()"
   ]
  },
  {
   "cell_type": "code",
   "execution_count": 170,
   "metadata": {},
   "outputs": [
    {
     "name": "stderr",
     "output_type": "stream",
     "text": [
      "/tmp/ipykernel_4234/1550602387.py:1: SettingWithCopyWarning: \n",
      "A value is trying to be set on a copy of a slice from a DataFrame\n",
      "\n",
      "See the caveats in the documentation: https://pandas.pydata.org/pandas-docs/stable/user_guide/indexing.html#returning-a-view-versus-a-copy\n",
      "  train.fillna(test.mean(), inplace=True)\n"
     ]
    }
   ],
   "source": [
    "train.fillna(test.mean(), inplace=True)"
   ]
  },
  {
   "cell_type": "code",
   "execution_count": 172,
   "metadata": {},
   "outputs": [],
   "source": [
    "from sklearn.model_selection import train_test_split\n",
    "from sklearn.metrics import accuracy_score\n",
    "\n",
    "X = train.drop(columns = ['rainfall'], axis = 1)\n",
    "y = train['rainfall']\n",
    "\n",
    "X_train, X_test, y_train, y_test = train_test_split(X, y, test_size = 0.2, random_state = 42)"
   ]
  },
  {
   "cell_type": "code",
   "execution_count": 164,
   "metadata": {},
   "outputs": [
    {
     "data": {
      "text/plain": [
       "'from sklearn.linear_model import LinearRegression\\n\\nmodel1 = LinearRegression()\\n\\nmodel1.fit(X_train, y_train)\\n\\npred = model1.predict(X_test)'"
      ]
     },
     "execution_count": 164,
     "metadata": {},
     "output_type": "execute_result"
    }
   ],
   "source": [
    "'''from sklearn.linear_model import LinearRegression\n",
    "\n",
    "model1 = LinearRegression()\n",
    "\n",
    "model1.fit(X_train, y_train)\n",
    "\n",
    "pred = model1.predict(X_test)'''"
   ]
  },
  {
   "cell_type": "code",
   "execution_count": 165,
   "metadata": {},
   "outputs": [
    {
     "data": {
      "text/plain": [
       "'from sklearn.linear_model import LogisticRegression\\n\\nmodel2 = LogisticRegression()\\n\\nmodel2.fit(X_train, y_train)'"
      ]
     },
     "execution_count": 165,
     "metadata": {},
     "output_type": "execute_result"
    }
   ],
   "source": [
    "'''from sklearn.linear_model import LogisticRegression\n",
    "\n",
    "model2 = LogisticRegression()\n",
    "\n",
    "model2.fit(X_train, y_train)'''"
   ]
  },
  {
   "cell_type": "code",
   "execution_count": 166,
   "metadata": {},
   "outputs": [
    {
     "data": {
      "text/plain": [
       "'from sklearn.ensemble import RandomForestRegressor\\n\\nmodel3 = RandomForestRegressor()\\n\\nmodel3.fit(X_train, y_train)'"
      ]
     },
     "execution_count": 166,
     "metadata": {},
     "output_type": "execute_result"
    }
   ],
   "source": [
    "'''from sklearn.ensemble import RandomForestRegressor\n",
    "\n",
    "model3 = RandomForestRegressor()\n",
    "\n",
    "model3.fit(X_train, y_train)'''"
   ]
  },
  {
   "cell_type": "code",
   "execution_count": 167,
   "metadata": {},
   "outputs": [
    {
     "data": {
      "text/plain": [
       "'from lightgbm import LGBMRegressor\\n\\nmodel4 = LGBMRegressor()\\n\\nmodel4.fit(X_train, y_train)'"
      ]
     },
     "execution_count": 167,
     "metadata": {},
     "output_type": "execute_result"
    }
   ],
   "source": [
    "'''from lightgbm import LGBMRegressor\n",
    "\n",
    "model4 = LGBMRegressor()\n",
    "\n",
    "model4.fit(X_train, y_train)'''"
   ]
  },
  {
   "cell_type": "code",
   "execution_count": 173,
   "metadata": {},
   "outputs": [
    {
     "name": "stdout",
     "output_type": "stream",
     "text": [
      "[LightGBM] [Info] Auto-choosing col-wise multi-threading, the overhead of testing was 0.003841 seconds.\n",
      "You can set `force_col_wise=true` to remove the overhead.\n",
      "[LightGBM] [Info] Total Bins 3229\n",
      "[LightGBM] [Info] Number of data points in the train set: 1752, number of used features: 18\n",
      "[LightGBM] [Info] Start training from score 0.759703\n",
      "[LightGBM] [Info] Auto-choosing col-wise multi-threading, the overhead of testing was 0.000920 seconds.\n",
      "You can set `force_col_wise=true` to remove the overhead.\n",
      "[LightGBM] [Info] Total Bins 3146\n",
      "[LightGBM] [Info] Number of data points in the train set: 1401, number of used features: 18\n",
      "[LightGBM] [Info] Start training from score 0.752320\n",
      "[LightGBM] [Info] Auto-choosing col-wise multi-threading, the overhead of testing was 0.000857 seconds.\n",
      "You can set `force_col_wise=true` to remove the overhead.\n",
      "[LightGBM] [Info] Total Bins 3132\n",
      "[LightGBM] [Info] Number of data points in the train set: 1401, number of used features: 18\n",
      "[LightGBM] [Info] Start training from score 0.763026\n",
      "[LightGBM] [Info] Auto-choosing col-wise multi-threading, the overhead of testing was 0.000804 seconds.\n",
      "You can set `force_col_wise=true` to remove the overhead.\n",
      "[LightGBM] [Info] Total Bins 3141\n",
      "[LightGBM] [Info] Number of data points in the train set: 1402, number of used features: 18\n",
      "[LightGBM] [Info] Start training from score 0.758203\n",
      "[LightGBM] [Info] Auto-choosing col-wise multi-threading, the overhead of testing was 0.000852 seconds.\n",
      "You can set `force_col_wise=true` to remove the overhead.\n",
      "[LightGBM] [Info] Total Bins 3124\n",
      "[LightGBM] [Info] Number of data points in the train set: 1402, number of used features: 18\n",
      "[LightGBM] [Info] Start training from score 0.756063\n",
      "[LightGBM] [Info] Auto-choosing col-wise multi-threading, the overhead of testing was 0.000546 seconds.\n",
      "You can set `force_col_wise=true` to remove the overhead.\n",
      "[LightGBM] [Info] Total Bins 3134\n",
      "[LightGBM] [Info] Number of data points in the train set: 1402, number of used features: 18\n",
      "[LightGBM] [Info] Start training from score 0.768902\n",
      "Mean Squared Error: 0.11353845880200533\n",
      "rmse: 0.3369546836030111\n"
     ]
    }
   ],
   "source": [
    "from sklearn.model_selection import train_test_split\n",
    "from sklearn.linear_model import LinearRegression\n",
    "from sklearn.ensemble import StackingRegressor\n",
    "from sklearn.metrics import mean_squared_error\n",
    "from lightgbm import LGBMRegressor\n",
    "\n",
    "\n",
    "base_learners = [\n",
    "    ('lr', LinearRegression()),  \n",
    "    ('lgbm', LGBMRegressor(n_estimators=100, learning_rate=0.05, random_state=42))  \n",
    "]\n",
    "\n",
    "final_estimator = LinearRegression()\n",
    "\n",
    "stacking_regressor = StackingRegressor(estimators=base_learners, final_estimator=final_estimator)\n",
    "\n",
    "stacking_regressor.fit(X_train, y_train)\n",
    "\n",
    "y_pred = stacking_regressor.predict(X_test)\n",
    "\n",
    "mse = mean_squared_error(y_test, y_pred)\n",
    "print(f'Mean Squared Error: {mse}')\n",
    "print(f'rmse: {np.sqrt(mse)}')\n"
   ]
  },
  {
   "cell_type": "code",
   "execution_count": 174,
   "metadata": {},
   "outputs": [],
   "source": [
    "predictions = stacking_regressor.predict(test)\n",
    "\n",
    "submission = pd.DataFrame({\n",
    "    'id': test['id'],\n",
    "    'rainfall': predictions\n",
    "})\n",
    "\n",
    "submission.to_csv('submission_3.csv', index = False)"
   ]
  }
 ],
 "metadata": {
  "kernelspec": {
   "display_name": ".venv",
   "language": "python",
   "name": "python3"
  },
  "language_info": {
   "codemirror_mode": {
    "name": "ipython",
    "version": 3
   },
   "file_extension": ".py",
   "mimetype": "text/x-python",
   "name": "python",
   "nbconvert_exporter": "python",
   "pygments_lexer": "ipython3",
   "version": "3.12.3"
  }
 },
 "nbformat": 4,
 "nbformat_minor": 2
}
